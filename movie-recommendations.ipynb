{
 "cells": [
  {
   "cell_type": "code",
   "execution_count": 2,
   "id": "abb11fab-da22-43d0-9a88-e2b66aa43fed",
   "metadata": {},
   "outputs": [
    {
     "name": "stderr",
     "output_type": "stream",
     "text": [
      "[nltk_data] Downloading package vader_lexicon to\n",
      "[nltk_data]     C:\\Users\\23324\\AppData\\Roaming\\nltk_data...\n",
      "[nltk_data]   Package vader_lexicon is already up-to-date!\n"
     ]
    },
    {
     "data": {
      "text/plain": [
       "True"
      ]
     },
     "execution_count": 2,
     "metadata": {},
     "output_type": "execute_result"
    }
   ],
   "source": [
    "import pandas as pd\n",
    "from nltk.tokenize import word_tokenize\n",
    "from nltk.corpus import stopwords\n",
    "from nltk.sentiment import SentimentIntensityAnalyzer\n",
    "from sklearn.feature_extraction.text import TfidfVectorizer\n",
    "from sklearn.metrics.pairwise import linear_kernel\n",
    "import nltk\n",
    "nltk.download('vader_lexicon')"
   ]
  },
  {
   "cell_type": "code",
   "execution_count": 3,
   "id": "5086e976-94e0-4b0e-bd26-0dc89fa0da19",
   "metadata": {},
   "outputs": [
    {
     "name": "stdout",
     "output_type": "stream",
     "text": [
      "                                original_title  \\\n",
      "0                                       Avatar   \n",
      "1     Pirates of the Caribbean: At World's End   \n",
      "2                                      Spectre   \n",
      "3                        The Dark Knight Rises   \n",
      "4                                  John Carter   \n",
      "...                                        ...   \n",
      "4798                               El Mariachi   \n",
      "4799                                 Newlyweds   \n",
      "4800                 Signed, Sealed, Delivered   \n",
      "4801                          Shanghai Calling   \n",
      "4802                         My Date with Drew   \n",
      "\n",
      "                                               overview  \n",
      "0     In the 22nd century, a paraplegic Marine is di...  \n",
      "1     Captain Barbossa, long believed to be dead, ha...  \n",
      "2     A cryptic message from Bond’s past sends him o...  \n",
      "3     Following the death of District Attorney Harve...  \n",
      "4     John Carter is a war-weary, former military ca...  \n",
      "...                                                 ...  \n",
      "4798  El Mariachi just wants to play his guitar and ...  \n",
      "4799  A newlywed couple's honeymoon is upended by th...  \n",
      "4800  \"Signed, Sealed, Delivered\" introduces a dedic...  \n",
      "4801  When ambitious New York attorney Sam is sent t...  \n",
      "4802  Ever since the second grade when he first saw ...  \n",
      "\n",
      "[4803 rows x 2 columns]\n"
     ]
    }
   ],
   "source": [
    "# Import dataset\n",
    "movies_df = pd.read_csv('./tmdb_5000_movies.csv')\n",
    "#print(movies_df.head())\n",
    "columns = ['original_title', 'overview'] \n",
    "relevant_columns_df = movies_df[columns]\n",
    "print(relevant_columns_df)"
   ]
  },
  {
   "cell_type": "code",
   "execution_count": 4,
   "id": "554f576d-75e7-438e-88cb-ecaf97681720",
   "metadata": {},
   "outputs": [],
   "source": [
    "\n",
    "stop_words = set(stopwords.words('english'))\n",
    "sia = SentimentIntensityAnalyzer()\n",
    "# Preprocessing step\n",
    "def preprocess_overview(overview):\n",
    "    if pd.notnull(overview):  # Check if overview is not NaN\n",
    "        tokens = word_tokenize(overview.lower())\n",
    "        tokens = [word for word in tokens if word.isalnum() and word not in stop_words]\n",
    "        sentiment_score = sia.polarity_scores(overview)['compound']\n",
    "        \n",
    "        positive_tokens = [token for token in tokens if sia.polarity_scores(token)['compound'] >= 0.5]\n",
    "        # Keep original overview for positive tokens\n",
    "        if positive_tokens:\n",
    "            return overview  \n",
    "    # Return empty string for movies without positive tokens (rows will be dropped later)\n",
    "    return ''  "
   ]
  },
  {
   "cell_type": "code",
   "execution_count": 5,
   "id": "12e709d8",
   "metadata": {},
   "outputs": [
    {
     "name": "stdout",
     "output_type": "stream",
     "text": [
      "                          original_title  \\\n",
      "5                           Spider-Man 3   \n",
      "6                                Tangled   \n",
      "7                Avengers: Age of Ultron   \n",
      "9     Batman v Superman: Dawn of Justice   \n",
      "10                      Superman Returns   \n",
      "...                                  ...   \n",
      "4786                    Breaking Upwards   \n",
      "4788                      Pink Flamingos   \n",
      "4794        Sanctuary: Quite a Conundrum   \n",
      "4800           Signed, Sealed, Delivered   \n",
      "4801                    Shanghai Calling   \n",
      "\n",
      "                                     processed_overview  \n",
      "5     The seemingly invincible Spider-Man goes up ag...  \n",
      "6     When the kingdom's most wanted-and most charmi...  \n",
      "7     When Tony Stark tries to jumpstart a dormant p...  \n",
      "9     Fearing the actions of a god-like Super Hero l...  \n",
      "10    Superman returns to discover his 5-year absenc...  \n",
      "...                                                 ...  \n",
      "4786  'Breaking Upwards' explores a young, real-life...  \n",
      "4788  Notorious Baltimore criminal and underground f...  \n",
      "4794  It should have been just a normal day of sex, ...  \n",
      "4800  \"Signed, Sealed, Delivered\" introduces a dedic...  \n",
      "4801  When ambitious New York attorney Sam is sent t...  \n",
      "\n",
      "[1793 rows x 2 columns]\n"
     ]
    },
    {
     "name": "stderr",
     "output_type": "stream",
     "text": [
      "C:\\Users\\23324\\AppData\\Local\\Temp\\ipykernel_2512\\3200607274.py:1: SettingWithCopyWarning: \n",
      "A value is trying to be set on a copy of a slice from a DataFrame.\n",
      "Try using .loc[row_indexer,col_indexer] = value instead\n",
      "\n",
      "See the caveats in the documentation: https://pandas.pydata.org/pandas-docs/stable/user_guide/indexing.html#returning-a-view-versus-a-copy\n",
      "  relevant_columns_df['processed_overview'] = relevant_columns_df['overview'].apply(preprocess_overview)\n"
     ]
    }
   ],
   "source": [
    "# Preprocess the 'overview' column\n",
    "relevant_columns_df['processed_overview'] = relevant_columns_df['overview'].apply(preprocess_overview)\n",
    "\n",
    "# Drop rows with empty 'processed_overview'\n",
    "relevant_columns_df = relevant_columns_df[relevant_columns_df['processed_overview'] != '']\n",
    "\n",
    "# Print processed data\n",
    "print(relevant_columns_df[['original_title', 'processed_overview']])\n",
    "\n"
   ]
  },
  {
   "cell_type": "code",
   "execution_count": 6,
   "id": "3961f1be",
   "metadata": {},
   "outputs": [
    {
     "name": "stdout",
     "output_type": "stream",
     "text": [
      "[[1.         0.02824542 0.04317569 ... 0.01938023 0.0459021  0.02267121]\n",
      " [0.02824542 1.         0.04954739 ... 0.04587378 0.0504558  0.03384842]\n",
      " [0.04317569 0.04954739 1.         ... 0.02725042 0.04624032 0.03559308]\n",
      " ...\n",
      " [0.01938023 0.04587378 0.02725042 ... 1.         0.02159189 0.02704411]\n",
      " [0.0459021  0.0504558  0.04624032 ... 0.02159189 1.         0.04748167]\n",
      " [0.02267121 0.03384842 0.03559308 ... 0.02704411 0.04748167 1.        ]]\n"
     ]
    }
   ],
   "source": [
    "overviews = relevant_columns_df['processed_overview']\n",
    "\n",
    "# Create TF-IDF vectors\n",
    "tfidf_vectorizer = TfidfVectorizer()\n",
    "tfidf_matrix = tfidf_vectorizer.fit_transform(overviews)\n",
    "\n",
    "# Compute cosine similarity\n",
    "cosine_sim = linear_kernel(tfidf_matrix, tfidf_matrix)\n",
    "print(cosine_sim)"
   ]
  },
  {
   "cell_type": "code",
   "execution_count": 7,
   "id": "84c91e6f",
   "metadata": {},
   "outputs": [],
   "source": [
    "indices = pd.Series(relevant_columns_df.index, index=relevant_columns_df['original_title']).drop_duplicates()\n",
    "def get_recommendations(title, cosine_sim=cosine_sim):\n",
    "    # Get the index of the movie that matches the title\n",
    "    idx = indices[title]\n",
    "\n",
    "     # Get the similarity scores of all movies with that movie\n",
    "    sim_scores = cosine_sim[idx]\n",
    "\n",
    "    # Get the indices of the top 10 most similar movies\n",
    "    movie_indices = np.argsort(sim_scores)[::-1][1:11]\n",
    "\n",
    "    # Return the top 10 most similar movies\n",
    "    return relevant_columns_df['original_title'].iloc[movie_indices]"
   ]
  },
  {
   "cell_type": "code",
   "execution_count": 8,
   "id": "d1ed0b7f",
   "metadata": {},
   "outputs": [
    {
     "data": {
      "text/plain": [
       "2129                                     The Black Hole\n",
       "1294                                           Serenity\n",
       "4044                                         Go for It!\n",
       "17          Pirates of the Caribbean: On Stranger Tides\n",
       "3103                     La femme de chambre du Titanic\n",
       "310                             In the Heart of the Sea\n",
       "1875                                          Elizabeth\n",
       "171     Master and Commander: The Far Side of the World\n",
       "3497                                       The Greatest\n",
       "2446                                            My Girl\n",
       "Name: original_title, dtype: object"
      ]
     },
     "execution_count": 8,
     "metadata": {},
     "output_type": "execute_result"
    }
   ],
   "source": [
    "get_recommendations('Superman Returns')"
   ]
  }
 ],
 "metadata": {
  "kernelspec": {
   "display_name": "Python 3 (ipykernel)",
   "language": "python",
   "name": "python3"
  },
  "language_info": {
   "codemirror_mode": {
    "name": "ipython",
    "version": 3
   },
   "file_extension": ".py",
   "mimetype": "text/x-python",
   "name": "python",
   "nbconvert_exporter": "python",
   "pygments_lexer": "ipython3",
   "version": "3.9.13"
  }
 },
 "nbformat": 4,
 "nbformat_minor": 5
}
